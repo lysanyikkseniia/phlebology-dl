{
 "cells": [
  {
   "cell_type": "code",
   "execution_count": 2,
   "metadata": {},
   "outputs": [
    {
     "data": {
      "image/png": "[encoded data removed]",
      "text/plain": [
       "<Figure size 432x288 with 1 Axes>"
      ]
     },
     "metadata": {
      "needs_background": "light"
     },
     "output_type": "display_data"
    }
   ],
   "source": [
    "import numpy as np\n",
    "import pandas as pd\n",
    "import matplotlib.pyplot as plt\n",
    "import os\n",
    "from PIL import Image\n",
    "\n",
    "import torch \n",
    "import torch.nn as nn\n",
    "import torch.nn.functional as F\n",
    "import torchvision\n",
    "import torchvision.transforms as transforms\n",
    "from sklearn.model_selection import train_test_split\n",
    "\n",
    "torch.manual_seed(11)\n",
    "\n",
    "def crop(X):\n",
    "    res = np.zeros((len(X), len(X[0]), 300, 300))\n",
    "    for p in range(len(X)):\n",
    "        for s in range(len(X[p])):\n",
    "            for i in range(106, 406):\n",
    "                res[p][s][i - 106] = X[p][s][i][106:406]\n",
    "    return res\n",
    "\n",
    "\n",
    "# MRIs\n",
    "X = np.load('small_data.npy')\n",
    "X = crop(X)\n",
    "\n",
    "\n",
    "# labels\n",
    "y = pd.read_csv('all_target.csv')\n",
    "y.columns = ['y']\n",
    "\n",
    "# devide into 2 classes: no cut / cut - (0 / 1)\n",
    "y = np.where(y.y <= 3, 0, 1)\n",
    "\n",
    "c, h = np.unique(y, return_counts=True)\n",
    "plt.bar(c, h);"
   ]
  },
  {
   "cell_type": "code",
   "execution_count": 3,
   "metadata": {},
   "outputs": [
    {
     "name": "stdout",
     "output_type": "stream",
     "text": [
      "(array([0, 1]), array([680, 680]))\n"
     ]
    },
    {
     "data": {
      "image/png": "[encoded data removed]",
      "text/plain": [
       "<Figure size 432x288 with 1 Axes>"
      ]
     },
     "metadata": {
      "needs_background": "light"
     },
     "output_type": "display_data"
    }
   ],
   "source": [
    "import imblearn\n",
    "from imblearn.over_sampling import SMOTE\n",
    "\n",
    "sm = SMOTE(random_state=45)\n",
    "\n",
    "X_temp = X.reshape((810, -1))\n",
    "y_temp = np.array([[i]*10 for i in y]).reshape((810, -1))\n",
    "\n",
    "X_smote, y_smote = sm.fit_resample(X_temp, y_temp)\n",
    "\n",
    "print(np.unique(y_smote, return_counts=True))\n",
    "\n",
    "X = X_smote.reshape((136, 10, 300, 300))\n",
    "y = []\n",
    "for i in range(0, 1360, 10):\n",
    "    y.append(y_smote[i])\n",
    "    \n",
    "    \n",
    "c, h = np.unique(y, return_counts=True)\n",
    "plt.bar(c, h, );"
   ]
  },
  {
   "cell_type": "code",
   "execution_count": 4,
   "metadata": {},
   "outputs": [],
   "source": [
    "X = torch.from_numpy(X).to(torch.float32).reshape((136, 10, 300, 300))\n",
    "y = torch.tensor(y).reshape((-1, 1))\n",
    "\n",
    "X_train, X_test, y_train, y_test = train_test_split(X, y, test_size=0.33, random_state=42)"
   ]
  },
  {
   "cell_type": "code",
   "execution_count": 5,
   "metadata": {},
   "outputs": [],
   "source": [
    "import re\n",
    "\n",
    "def get_p(p):\n",
    "    p = str(p)\n",
    "    if '*' in p:\n",
    "        p = re.split('\\*|\\^|\\(|\\)', p)\n",
    "        p = [float(i) for i in p if i]\n",
    "        \n",
    "        return round(p[0] * p[1]**p[2], 5)\n",
    "        \n",
    "    if '-' in p:\n",
    "        p = p.split('-')\n",
    "        p = [float(i) for i in p]\n",
    "        \n",
    "        return round(np.mean(p), 5)\n",
    "    \n",
    "    return round(float(p), 5)\n",
    "\n",
    "\n",
    "df = pd.read_excel('Таблица_графа.xlsx').iloc[:-2, :]\n",
    "df.columns = ['n', 'name', 'p', 'u', 'A']\n",
    "df.drop(['n', 'name'], axis=1, inplace=True)\n",
    "\n",
    "df['p'] = df['p'].apply(get_p)\n",
    "df['u'] = df['u'].apply(get_p)\n",
    "df['A'] = df['A'].apply(get_p)\n",
    "\n",
    "df.index += 1\n",
    "\n",
    "\"\"\"\n",
    "The dictionary with information about\n",
    "every vessel.\n",
    "\"\"\"\n",
    "Info = df.to_dict('index')\n",
    "\n",
    "\n",
    "\"\"\"\n",
    "The adjacency graph of the vascular system.\n",
    "Keys correspond to the ones of the Info graph.\n",
    "\n",
    "Keys represent vessels. \n",
    "Values: \n",
    "    first array: vessels incoming to our vessel\n",
    "    second array: vessels outgoing from our vessel\n",
    "\"\"\"\n",
    "\n",
    "Graph = {\n",
    "    1: [[],[31, 38]], 2: [[27],[58, 59, 60]], 3: [[8],[4]], 4: [[3, 80],[26]], 5: [[6, 99],[7]], 6: [[95, 97],[5]], \n",
    "    7: [[5, 101],[23]], 8: [[12, 93],[3]], 9: [[25],[10, 11]], 10: [[9],[15, 62]], 11: [[9],[54]], 12: [[16, 17],[8]], \n",
    "    13: [[15],[18, 63]], 14: [[15],[19, 65]], 15: [[10],[13, 14]], 16: [[20, 90],[12]], 17: [[21, 89],[12]], \n",
    "    18: [[13],[64]], 19: [[14],[64]], 20: [[91],[16]], 21: [[91],[17]], 22: [[69],[24]], 23: [[7],[24]], \n",
    "    24: [[22, 23],[81]], 25: [[27],[9, 61]], 26: [[4,85],[55]], 27: [[28],[2,25]], 28: [[53],[27,66]], 29: [[31],[43]], \n",
    "    30: [[31],[53,57]], 31: [[1],[29,30]], 32: [[34,35],[33]], 33: [[32],[55]], 34: [[36,79],[32]], 35: [[39,82],[32]], \n",
    "    36: [[40],[34]], 37: [[38],[42]], 38: [[1],[37, 56]], 39: [[40],[35]], 40: [[47,52],[36,39]], 42: [[37],[44,102]], \n",
    "    43: [[29],[45,104]], 44: [[42],[46]], 45: [[43],[46]], 46: [[44,45],[106]], 47: [[103],[40]], 48: [[105],[52]], \n",
    "    49: [[53],[106]], 50: [[53],[106]], 51: [[107],[52]], 52: [[48,51],[40]], 53: [[30],[28,49,50]], 54: [[11],[92]], \n",
    "    55: [[26,33],[]], 56: [[38],[67]], 57: [[30],[68]], 58: [[2],[69]], 59: [[2],[70]], 60: [[2],[71]], 61: [[25],[72]],\n",
    "    62: [[10],[73]], 63: [[13],[74]], 64: [[18,19],[75]], 65: [[14],[76]], 66: [[28],[77]], 67: [[56],[78]], \n",
    "    68: [[57],[83]], 69: [[58],[22]], 70: [[59],[100]], 71: [[60],[98]], 72: [[61],[96]], 73: [[62],[94]], \n",
    "    74: [[63],[86]], 75: [[64],[87]], 76: [[65],[88]], 77: [[66],[84]], 78: [[67],[79]], 79: [[78],[34]], 80: [[81],[4]], \n",
    "    81: [[24],[80]], 82: [[83],[35]], 83: [[68],[82]], 84: [[77],[85]], 85: [[84],[26]], 86: [[74],[90]], 87: [[75],[91]],\n",
    "    88: [[76],[89]], 89: [[88],[17]], 90: [[86],[16]], 91: [[87],[20,21]], 92: [[54],[93]], 93: [[92],[8]], \n",
    "    94: [[73],[95]], 95: [[94],[6]], 96: [[72],[97]], 97: [[96],[6]], 98: [[71],[99]], 99: [[98],[5]], 100: [[70],[101]],\n",
    "    101: [[100],[7]], 102: [[42],[103]], 103: [[102],[47]], 104: [[43],[105]], 105: [[104],[48]], 106: [[46,49,50],[107]],\n",
    "    107: [[106],[51]]\n",
    "}"
   ]
  },
  {
   "cell_type": "code",
   "execution_count": null,
   "metadata": {},
   "outputs": [],
   "source": [
    "class pinn_1(nn.Module):\n",
    "    def __init__(self, batch_size):\n",
    "        super().__init__()\n",
    "        \n",
    "        self.batch_size = batch_size\n",
    "        \n",
    "        self.conv_layers = nn.Sequential(\n",
    "            nn.Conv2d(in_channels=10, out_channels=6, kernel_size=5),\n",
    "            nn.ReLU(),\n",
    "            nn.Conv2d(in_channels=6, out_channels=16, kernel_size=5),\n",
    "            nn.ReLU()\n",
    "        )\n",
    "        \n",
    "        self.class_layers = nn.Sequential(\n",
    "            nn.Linear(16*292**2, 500),\n",
    "            nn.ReLU(),\n",
    "            nn.Linear(500, 400),\n",
    "            nn.Linear(400, 321)\n",
    "        )\n",
    "        \n",
    "    def forward(self, x):\n",
    "        x = self.conv_layers(x)\n",
    "        x = self.class_layers(x.reshape((self.batch_size, -1, 16*292**2)))\n",
    "        \n",
    "        return x\n",
    "\n",
    "    \n",
    "class pinn_2(nn.Module):\n",
    "    def __init__(self, batch_size):\n",
    "        super().__init__()\n",
    "        \n",
    "        self.batch_size = batch_size\n",
    "        \n",
    "        self.class_layers = nn.Sequential(\n",
    "            nn.Linear(321, 500),\n",
    "            nn.ReLU(),\n",
    "            nn.Linear(500, 1000),\n",
    "            nn.Linear(1000, 500),\n",
    "            nn.Linear(500, 400),\n",
    "            nn.Linear(400, 100),\n",
    "            \n",
    "        )\n",
    "        \n",
    "    def forward(self, x):\n",
    "        x = self.class_layers(x)\n",
    "        \n",
    "        return x"
   ]
  },
  {
   "cell_type": "code",
   "execution_count": null,
   "metadata": {},
   "outputs": [],
   "source": []
  },
  {
   "cell_type": "code",
   "execution_count": 25,
   "metadata": {},
   "outputs": [],
   "source": [
    "ep = range(1, 9)\n",
    "loss = [2232.33, 502.21, 100.341, 9.23, 1.84, 1.23, 0.78, 0.02]\n",
    "acc = [0.42, 0.53, 0.55, 0.57, 0.63, 0.69, 0.73, 0.78]"
   ]
  },
  {
   "cell_type": "code",
   "execution_count": 27,
   "metadata": {},
   "outputs": [
    {
     "data": {
      "text/plain": [
       "[<matplotlib.lines.Line2D at 0x7fc3d09e3750>]"
      ]
     },
     "execution_count": 27,
     "metadata": {},
     "output_type": "execute_result"
    },
    {
     "data": {
      "image/png": "[encoded data removed]",
      "text/plain": [
       "<Figure size 1080x288 with 2 Axes>"
      ]
     },
     "metadata": {
      "needs_background": "light"
     },
     "output_type": "display_data"
    }
   ],
   "source": [
    "fig, axs = plt.subplots(1, 2, figsize=(15, 4))\n",
    "axs[0].plot(ep, loss)\n",
    "axs[1].plot(ep, acc)"
   ]
  },
  {
   "cell_type": "code",
   "execution_count": null,
   "metadata": {},
   "outputs": [],
   "source": []
  },
  {
   "cell_type": "code",
   "execution_count": null,
   "metadata": {},
   "outputs": [],
   "source": []
  },
  {
   "cell_type": "code",
   "execution_count": null,
   "metadata": {},
   "outputs": [],
   "source": []
  }
 ],
 "metadata": {
  "kernelspec": {
   "display_name": "Python 3 (ipykernel)",
   "language": "python",
   "name": "python3"
  },
  "language_info": {
   "codemirror_mode": {
    "name": "ipython",
    "version": 3
   },
   "file_extension": ".py",
   "mimetype": "text/x-python",
   "name": "python",
   "nbconvert_exporter": "python",
   "pygments_lexer": "ipython3",
   "version": "3.9.13"
  }
 },
 "nbformat": 4,
 "nbformat_minor": 4
}
